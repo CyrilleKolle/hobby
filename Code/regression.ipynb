{
 "cells": [
  {
   "cell_type": "code",
   "execution_count": 41,
   "metadata": {},
   "outputs": [],
   "source": [
    "import pandas as pd\n",
    "import numpy as np\n",
    "import matplotlib.pyplot as plt\n",
    "from sklearn.model_selection import train_test_split\n",
    "from sklearn.preprocessing import MinMaxScaler \n",
    "from sklearn.linear_model import LinearRegression\n",
    "from sklearn.linear_model import SGDRegressor\n",
    "from sklearn.metrics import mean_absolute_error, mean_squared_error\n",
    "import plotly_express as px"
   ]
  },
  {
   "cell_type": "code",
   "execution_count": 42,
   "metadata": {},
   "outputs": [],
   "source": [
    "df = pd.read_csv(\"../carsdata/used_car_dataset.csv\", dtype='unicode')\n"
   ]
  },
  {
   "cell_type": "code",
   "execution_count": 43,
   "metadata": {},
   "outputs": [
    {
     "data": {
      "text/html": [
       "<div>\n",
       "<style scoped>\n",
       "    .dataframe tbody tr th:only-of-type {\n",
       "        vertical-align: middle;\n",
       "    }\n",
       "\n",
       "    .dataframe tbody tr th {\n",
       "        vertical-align: top;\n",
       "    }\n",
       "\n",
       "    .dataframe thead th {\n",
       "        text-align: right;\n",
       "    }\n",
       "</style>\n",
       "<table border=\"1\" class=\"dataframe\">\n",
       "  <thead>\n",
       "    <tr style=\"text-align: right;\">\n",
       "      <th></th>\n",
       "      <th>count</th>\n",
       "      <th>unique</th>\n",
       "      <th>top</th>\n",
       "      <th>freq</th>\n",
       "    </tr>\n",
       "  </thead>\n",
       "  <tbody>\n",
       "    <tr>\n",
       "      <th>price_sek</th>\n",
       "      <td>134243</td>\n",
       "      <td>8187</td>\n",
       "      <td>129900</td>\n",
       "      <td>1406</td>\n",
       "    </tr>\n",
       "    <tr>\n",
       "      <th>mileage_km</th>\n",
       "      <td>134243</td>\n",
       "      <td>22650</td>\n",
       "      <td>0</td>\n",
       "      <td>13723</td>\n",
       "    </tr>\n",
       "    <tr>\n",
       "      <th>horse_power</th>\n",
       "      <td>115058</td>\n",
       "      <td>415</td>\n",
       "      <td>191.0</td>\n",
       "      <td>12537</td>\n",
       "    </tr>\n",
       "    <tr>\n",
       "      <th>engine_size_ccm</th>\n",
       "      <td>72110</td>\n",
       "      <td>473</td>\n",
       "      <td>1968.0</td>\n",
       "      <td>7471</td>\n",
       "    </tr>\n",
       "    <tr>\n",
       "      <th>top_speed_km_h</th>\n",
       "      <td>73306</td>\n",
       "      <td>218</td>\n",
       "      <td>210.0</td>\n",
       "      <td>5076</td>\n",
       "    </tr>\n",
       "    <tr>\n",
       "      <th>co2_emission_g/km</th>\n",
       "      <td>19262</td>\n",
       "      <td>293</td>\n",
       "      <td>149.0</td>\n",
       "      <td>706</td>\n",
       "    </tr>\n",
       "    <tr>\n",
       "      <th>fuel_consumption_mixed_l_100km</th>\n",
       "      <td>70854</td>\n",
       "      <td>210</td>\n",
       "      <td>5.7</td>\n",
       "      <td>2703</td>\n",
       "    </tr>\n",
       "    <tr>\n",
       "      <th>fuel_consumption_highway_l_100km</th>\n",
       "      <td>66892</td>\n",
       "      <td>105</td>\n",
       "      <td>4.5</td>\n",
       "      <td>3143</td>\n",
       "    </tr>\n",
       "  </tbody>\n",
       "</table>\n",
       "</div>"
      ],
      "text/plain": [
       "                                   count unique     top   freq\n",
       "price_sek                         134243   8187  129900   1406\n",
       "mileage_km                        134243  22650       0  13723\n",
       "horse_power                       115058    415   191.0  12537\n",
       "engine_size_ccm                    72110    473  1968.0   7471\n",
       "top_speed_km_h                     73306    218   210.0   5076\n",
       "co2_emission_g/km                  19262    293   149.0    706\n",
       "fuel_consumption_mixed_l_100km     70854    210     5.7   2703\n",
       "fuel_consumption_highway_l_100km   66892    105     4.5   3143"
      ]
     },
     "execution_count": 43,
     "metadata": {},
     "output_type": "execute_result"
    }
   ],
   "source": [
    "df = df[\n",
    "    [\n",
    "        \"price_sek\",\n",
    "        \"mileage_km\",\n",
    "        \"horse_power\",\n",
    "        \"engine_size_ccm\",\n",
    "        \"top_speed_km_h\",\n",
    "        \"co2_emission_g/km\",\n",
    "        \"fuel_consumption_mixed_l_100km\",\n",
    "        \"fuel_consumption_highway_l_100km\",\n",
    "    ]\n",
    "]\n",
    "df.describe().T\n"
   ]
  },
  {
   "cell_type": "code",
   "execution_count": 44,
   "metadata": {},
   "outputs": [
    {
     "name": "stdout",
     "output_type": "stream",
     "text": [
      "<class 'pandas.core.frame.DataFrame'>\n",
      "RangeIndex: 134243 entries, 0 to 134242\n",
      "Data columns (total 8 columns):\n",
      " #   Column                            Non-Null Count   Dtype \n",
      "---  ------                            --------------   ----- \n",
      " 0   price_sek                         134243 non-null  object\n",
      " 1   mileage_km                        134243 non-null  object\n",
      " 2   horse_power                       115058 non-null  object\n",
      " 3   engine_size_ccm                   72110 non-null   object\n",
      " 4   top_speed_km_h                    73306 non-null   object\n",
      " 5   co2_emission_g/km                 19262 non-null   object\n",
      " 6   fuel_consumption_mixed_l_100km    70854 non-null   object\n",
      " 7   fuel_consumption_highway_l_100km  66892 non-null   object\n",
      "dtypes: object(8)\n",
      "memory usage: 8.2+ MB\n"
     ]
    }
   ],
   "source": [
    "df.info()"
   ]
  },
  {
   "cell_type": "code",
   "execution_count": 45,
   "metadata": {},
   "outputs": [],
   "source": [
    "df = df.dropna(axis=0, how='any',inplace=False)"
   ]
  },
  {
   "cell_type": "code",
   "execution_count": 46,
   "metadata": {},
   "outputs": [
    {
     "data": {
      "text/html": [
       "<div>\n",
       "<style scoped>\n",
       "    .dataframe tbody tr th:only-of-type {\n",
       "        vertical-align: middle;\n",
       "    }\n",
       "\n",
       "    .dataframe tbody tr th {\n",
       "        vertical-align: top;\n",
       "    }\n",
       "\n",
       "    .dataframe thead th {\n",
       "        text-align: right;\n",
       "    }\n",
       "</style>\n",
       "<table border=\"1\" class=\"dataframe\">\n",
       "  <thead>\n",
       "    <tr style=\"text-align: right;\">\n",
       "      <th></th>\n",
       "      <th>price_sek</th>\n",
       "      <th>mileage_km</th>\n",
       "      <th>horse_power</th>\n",
       "      <th>engine_size_ccm</th>\n",
       "      <th>top_speed_km_h</th>\n",
       "      <th>co2_emission_g/km</th>\n",
       "      <th>fuel_consumption_mixed_l_100km</th>\n",
       "      <th>fuel_consumption_highway_l_100km</th>\n",
       "    </tr>\n",
       "  </thead>\n",
       "  <tbody>\n",
       "    <tr>\n",
       "      <th>132</th>\n",
       "      <td>239900</td>\n",
       "      <td>12000</td>\n",
       "      <td>126.0</td>\n",
       "      <td>999.0</td>\n",
       "      <td>190.0</td>\n",
       "      <td>138.0</td>\n",
       "      <td>5.8</td>\n",
       "      <td>4.3</td>\n",
       "    </tr>\n",
       "    <tr>\n",
       "      <th>146</th>\n",
       "      <td>84900</td>\n",
       "      <td>67000</td>\n",
       "      <td>157.0</td>\n",
       "      <td>1598.0</td>\n",
       "      <td>204.0</td>\n",
       "      <td>155.0</td>\n",
       "      <td>8.8</td>\n",
       "      <td>5.4</td>\n",
       "    </tr>\n",
       "    <tr>\n",
       "      <th>148</th>\n",
       "      <td>209900</td>\n",
       "      <td>169000</td>\n",
       "      <td>245.0</td>\n",
       "      <td>1969.0</td>\n",
       "      <td>210.0</td>\n",
       "      <td>157.0</td>\n",
       "      <td>8.8</td>\n",
       "      <td>5.5</td>\n",
       "    </tr>\n",
       "    <tr>\n",
       "      <th>149</th>\n",
       "      <td>98000</td>\n",
       "      <td>217000</td>\n",
       "      <td>141.0</td>\n",
       "      <td>1968.0</td>\n",
       "      <td>158.0</td>\n",
       "      <td>206.0</td>\n",
       "      <td>9.9</td>\n",
       "      <td>6.6</td>\n",
       "    </tr>\n",
       "    <tr>\n",
       "      <th>150</th>\n",
       "      <td>99900</td>\n",
       "      <td>155950</td>\n",
       "      <td>141.0</td>\n",
       "      <td>1956.0</td>\n",
       "      <td>205.0</td>\n",
       "      <td>119.0</td>\n",
       "      <td>5.6</td>\n",
       "      <td>3.9</td>\n",
       "    </tr>\n",
       "    <tr>\n",
       "      <th>...</th>\n",
       "      <td>...</td>\n",
       "      <td>...</td>\n",
       "      <td>...</td>\n",
       "      <td>...</td>\n",
       "      <td>...</td>\n",
       "      <td>...</td>\n",
       "      <td>...</td>\n",
       "      <td>...</td>\n",
       "    </tr>\n",
       "    <tr>\n",
       "      <th>132734</th>\n",
       "      <td>219000</td>\n",
       "      <td>91420</td>\n",
       "      <td>181.0</td>\n",
       "      <td>1969.0</td>\n",
       "      <td>220.0</td>\n",
       "      <td>117.0</td>\n",
       "      <td>4.5</td>\n",
       "      <td>4.1</td>\n",
       "    </tr>\n",
       "    <tr>\n",
       "      <th>133276</th>\n",
       "      <td>189800</td>\n",
       "      <td>152520</td>\n",
       "      <td>145.0</td>\n",
       "      <td>2494.0</td>\n",
       "      <td>170.0</td>\n",
       "      <td>193.0</td>\n",
       "      <td>8.7</td>\n",
       "      <td>6.5</td>\n",
       "    </tr>\n",
       "    <tr>\n",
       "      <th>133482</th>\n",
       "      <td>39900</td>\n",
       "      <td>256000</td>\n",
       "      <td>126.0</td>\n",
       "      <td>1798.0</td>\n",
       "      <td>200.0</td>\n",
       "      <td>177.0</td>\n",
       "      <td>10.3</td>\n",
       "      <td>5.8</td>\n",
       "    </tr>\n",
       "    <tr>\n",
       "      <th>133483</th>\n",
       "      <td>299900</td>\n",
       "      <td>147500</td>\n",
       "      <td>525.0</td>\n",
       "      <td>6208.0</td>\n",
       "      <td>300.0</td>\n",
       "      <td>295.0</td>\n",
       "      <td>18.7</td>\n",
       "      <td>9.1</td>\n",
       "    </tr>\n",
       "    <tr>\n",
       "      <th>133541</th>\n",
       "      <td>139900</td>\n",
       "      <td>161500</td>\n",
       "      <td>215.0</td>\n",
       "      <td>2400.0</td>\n",
       "      <td>230.0</td>\n",
       "      <td>162.0</td>\n",
       "      <td>8.5</td>\n",
       "      <td>4.9</td>\n",
       "    </tr>\n",
       "  </tbody>\n",
       "</table>\n",
       "<p>18219 rows × 8 columns</p>\n",
       "</div>"
      ],
      "text/plain": [
       "       price_sek mileage_km horse_power engine_size_ccm top_speed_km_h  \\\n",
       "132       239900      12000       126.0           999.0          190.0   \n",
       "146        84900      67000       157.0          1598.0          204.0   \n",
       "148       209900     169000       245.0          1969.0          210.0   \n",
       "149        98000     217000       141.0          1968.0          158.0   \n",
       "150        99900     155950       141.0          1956.0          205.0   \n",
       "...          ...        ...         ...             ...            ...   \n",
       "132734    219000      91420       181.0          1969.0          220.0   \n",
       "133276    189800     152520       145.0          2494.0          170.0   \n",
       "133482     39900     256000       126.0          1798.0          200.0   \n",
       "133483    299900     147500       525.0          6208.0          300.0   \n",
       "133541    139900     161500       215.0          2400.0          230.0   \n",
       "\n",
       "       co2_emission_g/km fuel_consumption_mixed_l_100km  \\\n",
       "132                138.0                            5.8   \n",
       "146                155.0                            8.8   \n",
       "148                157.0                            8.8   \n",
       "149                206.0                            9.9   \n",
       "150                119.0                            5.6   \n",
       "...                  ...                            ...   \n",
       "132734             117.0                            4.5   \n",
       "133276             193.0                            8.7   \n",
       "133482             177.0                           10.3   \n",
       "133483             295.0                           18.7   \n",
       "133541             162.0                            8.5   \n",
       "\n",
       "       fuel_consumption_highway_l_100km  \n",
       "132                                 4.3  \n",
       "146                                 5.4  \n",
       "148                                 5.5  \n",
       "149                                 6.6  \n",
       "150                                 3.9  \n",
       "...                                 ...  \n",
       "132734                              4.1  \n",
       "133276                              6.5  \n",
       "133482                              5.8  \n",
       "133483                              9.1  \n",
       "133541                              4.9  \n",
       "\n",
       "[18219 rows x 8 columns]"
      ]
     },
     "execution_count": 46,
     "metadata": {},
     "output_type": "execute_result"
    }
   ],
   "source": [
    "df"
   ]
  },
  {
   "cell_type": "code",
   "execution_count": 47,
   "metadata": {},
   "outputs": [
    {
     "data": {
      "text/plain": [
       "(18219, 8)"
      ]
     },
     "execution_count": 47,
     "metadata": {},
     "output_type": "execute_result"
    }
   ],
   "source": [
    "df.shape"
   ]
  },
  {
   "cell_type": "code",
   "execution_count": 48,
   "metadata": {},
   "outputs": [
    {
     "data": {
      "text/plain": [
       "(7, 18219)"
      ]
     },
     "execution_count": 48,
     "metadata": {},
     "output_type": "execute_result"
    }
   ],
   "source": [
    "number_of_samples, number_of_features = df.shape[0], df.shape[1]-1\n",
    "number_of_features, number_of_samples"
   ]
  },
  {
   "cell_type": "code",
   "execution_count": 49,
   "metadata": {},
   "outputs": [
    {
     "data": {
      "text/plain": [
       "Index(['price_sek', 'mileage_km', 'horse_power', 'engine_size_ccm',\n",
       "       'top_speed_km_h', 'co2_emission_g/km', 'fuel_consumption_mixed_l_100km',\n",
       "       'fuel_consumption_highway_l_100km'],\n",
       "      dtype='object')"
      ]
     },
     "execution_count": 49,
     "metadata": {},
     "output_type": "execute_result"
    }
   ],
   "source": [
    "df.columns"
   ]
  },
  {
   "cell_type": "code",
   "execution_count": 50,
   "metadata": {},
   "outputs": [],
   "source": [
    "X, y = df.drop('price_sek', axis=1), df['price_sek']"
   ]
  },
  {
   "cell_type": "code",
   "execution_count": 51,
   "metadata": {},
   "outputs": [
    {
     "data": {
      "text/html": [
       "<div>\n",
       "<style scoped>\n",
       "    .dataframe tbody tr th:only-of-type {\n",
       "        vertical-align: middle;\n",
       "    }\n",
       "\n",
       "    .dataframe tbody tr th {\n",
       "        vertical-align: top;\n",
       "    }\n",
       "\n",
       "    .dataframe thead th {\n",
       "        text-align: right;\n",
       "    }\n",
       "</style>\n",
       "<table border=\"1\" class=\"dataframe\">\n",
       "  <thead>\n",
       "    <tr style=\"text-align: right;\">\n",
       "      <th></th>\n",
       "      <th>mileage_km</th>\n",
       "      <th>horse_power</th>\n",
       "      <th>engine_size_ccm</th>\n",
       "      <th>top_speed_km_h</th>\n",
       "      <th>co2_emission_g/km</th>\n",
       "      <th>fuel_consumption_mixed_l_100km</th>\n",
       "      <th>fuel_consumption_highway_l_100km</th>\n",
       "    </tr>\n",
       "  </thead>\n",
       "  <tbody>\n",
       "    <tr>\n",
       "      <th>132</th>\n",
       "      <td>12000</td>\n",
       "      <td>126.0</td>\n",
       "      <td>999.0</td>\n",
       "      <td>190.0</td>\n",
       "      <td>138.0</td>\n",
       "      <td>5.8</td>\n",
       "      <td>4.3</td>\n",
       "    </tr>\n",
       "    <tr>\n",
       "      <th>146</th>\n",
       "      <td>67000</td>\n",
       "      <td>157.0</td>\n",
       "      <td>1598.0</td>\n",
       "      <td>204.0</td>\n",
       "      <td>155.0</td>\n",
       "      <td>8.8</td>\n",
       "      <td>5.4</td>\n",
       "    </tr>\n",
       "    <tr>\n",
       "      <th>148</th>\n",
       "      <td>169000</td>\n",
       "      <td>245.0</td>\n",
       "      <td>1969.0</td>\n",
       "      <td>210.0</td>\n",
       "      <td>157.0</td>\n",
       "      <td>8.8</td>\n",
       "      <td>5.5</td>\n",
       "    </tr>\n",
       "    <tr>\n",
       "      <th>149</th>\n",
       "      <td>217000</td>\n",
       "      <td>141.0</td>\n",
       "      <td>1968.0</td>\n",
       "      <td>158.0</td>\n",
       "      <td>206.0</td>\n",
       "      <td>9.9</td>\n",
       "      <td>6.6</td>\n",
       "    </tr>\n",
       "    <tr>\n",
       "      <th>150</th>\n",
       "      <td>155950</td>\n",
       "      <td>141.0</td>\n",
       "      <td>1956.0</td>\n",
       "      <td>205.0</td>\n",
       "      <td>119.0</td>\n",
       "      <td>5.6</td>\n",
       "      <td>3.9</td>\n",
       "    </tr>\n",
       "  </tbody>\n",
       "</table>\n",
       "</div>"
      ],
      "text/plain": [
       "    mileage_km horse_power engine_size_ccm top_speed_km_h co2_emission_g/km  \\\n",
       "132      12000       126.0           999.0          190.0             138.0   \n",
       "146      67000       157.0          1598.0          204.0             155.0   \n",
       "148     169000       245.0          1969.0          210.0             157.0   \n",
       "149     217000       141.0          1968.0          158.0             206.0   \n",
       "150     155950       141.0          1956.0          205.0             119.0   \n",
       "\n",
       "    fuel_consumption_mixed_l_100km fuel_consumption_highway_l_100km  \n",
       "132                            5.8                              4.3  \n",
       "146                            8.8                              5.4  \n",
       "148                            8.8                              5.5  \n",
       "149                            9.9                              6.6  \n",
       "150                            5.6                              3.9  "
      ]
     },
     "execution_count": 51,
     "metadata": {},
     "output_type": "execute_result"
    }
   ],
   "source": [
    "X.head()"
   ]
  },
  {
   "cell_type": "code",
   "execution_count": 52,
   "metadata": {},
   "outputs": [
    {
     "data": {
      "text/plain": [
       "132    239900\n",
       "146     84900\n",
       "148    209900\n",
       "149     98000\n",
       "150     99900\n",
       "Name: price_sek, dtype: object"
      ]
     },
     "execution_count": 52,
     "metadata": {},
     "output_type": "execute_result"
    }
   ],
   "source": [
    "y.head()"
   ]
  },
  {
   "attachments": {},
   "cell_type": "markdown",
   "metadata": {},
   "source": [
    "## Train test split "
   ]
  },
  {
   "cell_type": "code",
   "execution_count": 53,
   "metadata": {},
   "outputs": [],
   "source": [
    "X_train, X_test, y_train, y_test = train_test_split(X, y, test_size=0.25)"
   ]
  },
  {
   "cell_type": "code",
   "execution_count": 54,
   "metadata": {},
   "outputs": [
    {
     "data": {
      "text/plain": [
       "((13664, 7), (4555, 7), (13664,), (4555,))"
      ]
     },
     "execution_count": 54,
     "metadata": {},
     "output_type": "execute_result"
    }
   ],
   "source": [
    "X_train.shape, X_test.shape, y_train.shape, y_test.shape"
   ]
  },
  {
   "cell_type": "code",
   "execution_count": 55,
   "metadata": {},
   "outputs": [
    {
     "data": {
      "text/plain": [
       "(0.0, 1.0, -0.1848341232227489, 1.2708333333333333)"
      ]
     },
     "execution_count": 55,
     "metadata": {},
     "output_type": "execute_result"
    }
   ],
   "source": [
    "scaler = MinMaxScaler()\n",
    "scaler.fit(X_train)\n",
    "\n",
    "scaled_X_train = scaler.transform(X_train)\n",
    "scaled_X_test = scaler.transform(X_test)\n",
    "\n",
    "scaled_X_train.min(), scaled_X_train.max(), scaled_X_test.min(), scaled_X_test.max()"
   ]
  },
  {
   "attachments": {},
   "cell_type": "markdown",
   "metadata": {},
   "source": [
    "## Using Linear regression"
   ]
  },
  {
   "cell_type": "code",
   "execution_count": 56,
   "metadata": {},
   "outputs": [
    {
     "data": {
      "text/plain": [
       "array([337540.55671689])"
      ]
     },
     "execution_count": 56,
     "metadata": {},
     "output_type": "execute_result"
    }
   ],
   "source": [
    "model_ols = LinearRegression()\n",
    "model_ols.fit(scaled_X_train, y_train)\n",
    "model_ols.predict(scaled_X_test[0].reshape(1,-1))"
   ]
  },
  {
   "cell_type": "code",
   "execution_count": 63,
   "metadata": {},
   "outputs": [
    {
     "data": {
      "text/plain": [
       "74273    369900\n",
       "Name: price_sek, dtype: object"
      ]
     },
     "execution_count": 63,
     "metadata": {},
     "output_type": "execute_result"
    }
   ],
   "source": [
    "y_test[:1]"
   ]
  },
  {
   "cell_type": "code",
   "execution_count": null,
   "metadata": {},
   "outputs": [],
   "source": []
  }
 ],
 "metadata": {
  "kernelspec": {
   "display_name": "data-behandlin-cyrille-kolle-IH-hno8Y",
   "language": "python",
   "name": "python3"
  },
  "language_info": {
   "codemirror_mode": {
    "name": "ipython",
    "version": 3
   },
   "file_extension": ".py",
   "mimetype": "text/x-python",
   "name": "python",
   "nbconvert_exporter": "python",
   "pygments_lexer": "ipython3",
   "version": "3.9.13"
  },
  "orig_nbformat": 4,
  "vscode": {
   "interpreter": {
    "hash": "687cb790cab5c1df02f1d8017d39b24847b850bfcb98624e1903a6099427824d"
   }
  }
 },
 "nbformat": 4,
 "nbformat_minor": 2
}
